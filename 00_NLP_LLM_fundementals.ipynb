{
  "nbformat": 4,
  "nbformat_minor": 0,
  "metadata": {
    "colab": {
      "provenance": [],
      "authorship_tag": "ABX9TyOLpsXDcMFkwHY8hZTFJ77b",
      "include_colab_link": true
    },
    "kernelspec": {
      "name": "python3",
      "display_name": "Python 3"
    },
    "language_info": {
      "name": "python"
    }
  },
  "cells": [
    {
      "cell_type": "markdown",
      "metadata": {
        "id": "view-in-github",
        "colab_type": "text"
      },
      "source": [
        "<a href=\"https://colab.research.google.com/github/smathews88/nlp/blob/main/00_NLP_LLM_fundementals.ipynb\" target=\"_parent\"><img src=\"https://colab.research.google.com/assets/colab-badge.svg\" alt=\"Open In Colab\"/></a>"
      ]
    },
    {
      "cell_type": "markdown",
      "source": [
        "# **Large Language Models**"
      ],
      "metadata": {
        "id": "JW3CCo8vorv7"
      }
    },
    {
      "cell_type": "markdown",
      "source": [
        "LLMs are mathematical functions that have learned to predict right words given a context..\n",
        "**Tokenization** : coverts word to numbers that can be used by model\n",
        "LLMs are trained to predict next word given an input context by giving it billions of sentences with answers.\n",
        "\n",
        "**Fine Tuning**: taking an LLM model and training it further to suit the usecases of a particular domain"
      ],
      "metadata": {
        "id": "M27uS6wkoxqb"
      }
    }
  ]
}